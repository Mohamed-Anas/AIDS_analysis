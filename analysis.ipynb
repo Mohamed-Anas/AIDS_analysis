{
 "cells": [
  {
   "cell_type": "code",
   "execution_count": 1,
   "metadata": {},
   "outputs": [],
   "source": [
    "import numpy as np\n",
    "import pandas as pd"
   ]
  },
  {
   "cell_type": "code",
   "execution_count": 3,
   "metadata": {},
   "outputs": [],
   "source": [
    "data = pd.read_csv('children-0-14.csv')"
   ]
  },
  {
   "cell_type": "code",
   "execution_count": 4,
   "metadata": {},
   "outputs": [
    {
     "data": {
      "text/plain": [
       "Index(['Country Name', 'Country Code', 'Indicator Name', 'Indicator Code',\n",
       "       '1960', '1961', '1962', '1963', '1964', '1965', '1966', '1967', '1968',\n",
       "       '1969', '1970', '1971', '1972', '1973', '1974', '1975', '1976', '1977',\n",
       "       '1978', '1979', '1980', '1981', '1982', '1983', '1984', '1985', '1986',\n",
       "       '1987', '1988', '1989', '1990', '1991', '1992', '1993', '1994', '1995',\n",
       "       '1996', '1997', '1998', '1999', '2000', '2001', '2002', '2003', '2004',\n",
       "       '2005', '2006', '2007', '2008', '2009', '2010', '2011', '2012', '2013',\n",
       "       '2014', '2015', '2016', '2017'],\n",
       "      dtype='object')"
      ]
     },
     "execution_count": 4,
     "metadata": {},
     "output_type": "execute_result"
    }
   ],
   "source": [
    "data.columns"
   ]
  },
  {
   "cell_type": "code",
   "execution_count": 5,
   "metadata": {},
   "outputs": [
    {
     "data": {
      "text/plain": [
       "Country Name       object\n",
       "Country Code       object\n",
       "Indicator Name     object\n",
       "Indicator Code     object\n",
       "1960              float64\n",
       "1961              float64\n",
       "1962              float64\n",
       "1963              float64\n",
       "1964              float64\n",
       "1965              float64\n",
       "1966              float64\n",
       "1967              float64\n",
       "1968              float64\n",
       "1969              float64\n",
       "1970              float64\n",
       "1971              float64\n",
       "1972              float64\n",
       "1973              float64\n",
       "1974              float64\n",
       "1975              float64\n",
       "1976              float64\n",
       "1977              float64\n",
       "1978              float64\n",
       "1979              float64\n",
       "1980              float64\n",
       "1981              float64\n",
       "1982              float64\n",
       "1983              float64\n",
       "1984              float64\n",
       "1985              float64\n",
       "                   ...   \n",
       "1988              float64\n",
       "1989              float64\n",
       "1990              float64\n",
       "1991              float64\n",
       "1992              float64\n",
       "1993              float64\n",
       "1994              float64\n",
       "1995              float64\n",
       "1996              float64\n",
       "1997              float64\n",
       "1998              float64\n",
       "1999              float64\n",
       "2000              float64\n",
       "2001              float64\n",
       "2002              float64\n",
       "2003              float64\n",
       "2004              float64\n",
       "2005              float64\n",
       "2006              float64\n",
       "2007              float64\n",
       "2008              float64\n",
       "2009              float64\n",
       "2010              float64\n",
       "2011              float64\n",
       "2012              float64\n",
       "2013              float64\n",
       "2014              float64\n",
       "2015              float64\n",
       "2016              float64\n",
       "2017              float64\n",
       "Length: 62, dtype: object"
      ]
     },
     "execution_count": 5,
     "metadata": {},
     "output_type": "execute_result"
    }
   ],
   "source": [
    "data.dtypes"
   ]
  },
  {
   "cell_type": "code",
   "execution_count": 6,
   "metadata": {},
   "outputs": [
    {
     "data": {
      "text/plain": [
       "0     NaN\n",
       "1     NaN\n",
       "2     NaN\n",
       "3     NaN\n",
       "4     NaN\n",
       "5     NaN\n",
       "6     NaN\n",
       "7     NaN\n",
       "8     NaN\n",
       "9     NaN\n",
       "10    NaN\n",
       "11    NaN\n",
       "12    NaN\n",
       "13    NaN\n",
       "14    NaN\n",
       "15    NaN\n",
       "16    NaN\n",
       "17    NaN\n",
       "18    NaN\n",
       "19    NaN\n",
       "20    NaN\n",
       "21    NaN\n",
       "22    NaN\n",
       "23    NaN\n",
       "24    NaN\n",
       "25    NaN\n",
       "26    NaN\n",
       "27    NaN\n",
       "28    NaN\n",
       "29    NaN\n",
       "       ..\n",
       "234   NaN\n",
       "235   NaN\n",
       "236   NaN\n",
       "237   NaN\n",
       "238   NaN\n",
       "239   NaN\n",
       "240   NaN\n",
       "241   NaN\n",
       "242   NaN\n",
       "243   NaN\n",
       "244   NaN\n",
       "245   NaN\n",
       "246   NaN\n",
       "247   NaN\n",
       "248   NaN\n",
       "249   NaN\n",
       "250   NaN\n",
       "251   NaN\n",
       "252   NaN\n",
       "253   NaN\n",
       "254   NaN\n",
       "255   NaN\n",
       "256   NaN\n",
       "257   NaN\n",
       "258   NaN\n",
       "259   NaN\n",
       "260   NaN\n",
       "261   NaN\n",
       "262   NaN\n",
       "263   NaN\n",
       "Name: 1960, Length: 264, dtype: float64"
      ]
     },
     "execution_count": 6,
     "metadata": {},
     "output_type": "execute_result"
    }
   ],
   "source": [
    "data['1960']"
   ]
  },
  {
   "cell_type": "code",
   "execution_count": 8,
   "metadata": {},
   "outputs": [
    {
     "data": {
      "text/plain": [
       "264"
      ]
     },
     "execution_count": 8,
     "metadata": {},
     "output_type": "execute_result"
    }
   ],
   "source": [
    "np.sum(data['1960'].isnull())"
   ]
  },
  {
   "cell_type": "code",
   "execution_count": 9,
   "metadata": {},
   "outputs": [],
   "source": [
    "\"\"\"going to do some data cleaning\"\"\"\n",
    "empty_columns = []\n",
    "for column in data.columns:\n",
    "    if np.sum(data[column].isnull()) == data.shape[0]:\n",
    "        empty_columns.append(column)"
   ]
  },
  {
   "cell_type": "code",
   "execution_count": 10,
   "metadata": {},
   "outputs": [
    {
     "name": "stdout",
     "output_type": "stream",
     "text": [
      "['1960', '1961', '1962', '1963', '1964', '1965', '1966', '1967', '1968', '1969', '1970', '1971', '1972', '1973', '1974', '1975', '1976', '1977', '1978', '1979', '1980', '1981', '1982', '1983', '1984', '1985', '1986', '1987', '1988', '1989']\n"
     ]
    }
   ],
   "source": [
    "print(empty_columns)"
   ]
  },
  {
   "cell_type": "code",
   "execution_count": 11,
   "metadata": {},
   "outputs": [
    {
     "data": {
      "text/plain": [
       "(264, 62)"
      ]
     },
     "execution_count": 11,
     "metadata": {},
     "output_type": "execute_result"
    }
   ],
   "source": [
    "data.shape"
   ]
  },
  {
   "cell_type": "code",
   "execution_count": 12,
   "metadata": {},
   "outputs": [],
   "source": [
    "data.drop(labels = empty_columns,axis = 1,inplace = True)"
   ]
  },
  {
   "cell_type": "code",
   "execution_count": 13,
   "metadata": {},
   "outputs": [
    {
     "data": {
      "text/plain": [
       "(264, 32)"
      ]
     },
     "execution_count": 13,
     "metadata": {},
     "output_type": "execute_result"
    }
   ],
   "source": [
    "data.shape"
   ]
  },
  {
   "cell_type": "code",
   "execution_count": 19,
   "metadata": {},
   "outputs": [
    {
     "data": {
      "text/html": [
       "<div>\n",
       "<style>\n",
       "    .dataframe thead tr:only-child th {\n",
       "        text-align: right;\n",
       "    }\n",
       "\n",
       "    .dataframe thead th {\n",
       "        text-align: left;\n",
       "    }\n",
       "\n",
       "    .dataframe tbody tr th {\n",
       "        vertical-align: top;\n",
       "    }\n",
       "</style>\n",
       "<table border=\"1\" class=\"dataframe\">\n",
       "  <thead>\n",
       "    <tr style=\"text-align: right;\">\n",
       "      <th></th>\n",
       "      <th>Country Name</th>\n",
       "      <th>Country Code</th>\n",
       "      <th>Indicator Name</th>\n",
       "      <th>Indicator Code</th>\n",
       "      <th>1990</th>\n",
       "      <th>1991</th>\n",
       "      <th>1992</th>\n",
       "      <th>1993</th>\n",
       "      <th>1994</th>\n",
       "      <th>1995</th>\n",
       "      <th>...</th>\n",
       "      <th>2008</th>\n",
       "      <th>2009</th>\n",
       "      <th>2010</th>\n",
       "      <th>2011</th>\n",
       "      <th>2012</th>\n",
       "      <th>2013</th>\n",
       "      <th>2014</th>\n",
       "      <th>2015</th>\n",
       "      <th>2016</th>\n",
       "      <th>2017</th>\n",
       "    </tr>\n",
       "  </thead>\n",
       "  <tbody>\n",
       "    <tr>\n",
       "      <th>0</th>\n",
       "      <td>Aruba</td>\n",
       "      <td>ABW</td>\n",
       "      <td>Children (0-14) living with HIV</td>\n",
       "      <td>SH.HIV.0014</td>\n",
       "      <td>NaN</td>\n",
       "      <td>NaN</td>\n",
       "      <td>NaN</td>\n",
       "      <td>NaN</td>\n",
       "      <td>NaN</td>\n",
       "      <td>NaN</td>\n",
       "      <td>...</td>\n",
       "      <td>NaN</td>\n",
       "      <td>NaN</td>\n",
       "      <td>NaN</td>\n",
       "      <td>NaN</td>\n",
       "      <td>NaN</td>\n",
       "      <td>NaN</td>\n",
       "      <td>NaN</td>\n",
       "      <td>NaN</td>\n",
       "      <td>NaN</td>\n",
       "      <td>NaN</td>\n",
       "    </tr>\n",
       "    <tr>\n",
       "      <th>1</th>\n",
       "      <td>Afghanistan</td>\n",
       "      <td>AFG</td>\n",
       "      <td>Children (0-14) living with HIV</td>\n",
       "      <td>SH.HIV.0014</td>\n",
       "      <td>NaN</td>\n",
       "      <td>NaN</td>\n",
       "      <td>NaN</td>\n",
       "      <td>NaN</td>\n",
       "      <td>NaN</td>\n",
       "      <td>NaN</td>\n",
       "      <td>...</td>\n",
       "      <td>NaN</td>\n",
       "      <td>NaN</td>\n",
       "      <td>NaN</td>\n",
       "      <td>NaN</td>\n",
       "      <td>NaN</td>\n",
       "      <td>NaN</td>\n",
       "      <td>NaN</td>\n",
       "      <td>NaN</td>\n",
       "      <td>NaN</td>\n",
       "      <td>NaN</td>\n",
       "    </tr>\n",
       "    <tr>\n",
       "      <th>2</th>\n",
       "      <td>Angola</td>\n",
       "      <td>AGO</td>\n",
       "      <td>Children (0-14) living with HIV</td>\n",
       "      <td>SH.HIV.0014</td>\n",
       "      <td>620.0</td>\n",
       "      <td>820.0</td>\n",
       "      <td>1100.0</td>\n",
       "      <td>1400.0</td>\n",
       "      <td>1800.0</td>\n",
       "      <td>2200.0</td>\n",
       "      <td>...</td>\n",
       "      <td>16000.0</td>\n",
       "      <td>17000.0</td>\n",
       "      <td>19000.0</td>\n",
       "      <td>20000.0</td>\n",
       "      <td>22000.0</td>\n",
       "      <td>23000.0</td>\n",
       "      <td>24000.0</td>\n",
       "      <td>25000.0</td>\n",
       "      <td>26000.0</td>\n",
       "      <td>27000.0</td>\n",
       "    </tr>\n",
       "    <tr>\n",
       "      <th>3</th>\n",
       "      <td>Albania</td>\n",
       "      <td>ALB</td>\n",
       "      <td>Children (0-14) living with HIV</td>\n",
       "      <td>SH.HIV.0014</td>\n",
       "      <td>NaN</td>\n",
       "      <td>NaN</td>\n",
       "      <td>NaN</td>\n",
       "      <td>NaN</td>\n",
       "      <td>NaN</td>\n",
       "      <td>NaN</td>\n",
       "      <td>...</td>\n",
       "      <td>NaN</td>\n",
       "      <td>NaN</td>\n",
       "      <td>NaN</td>\n",
       "      <td>NaN</td>\n",
       "      <td>NaN</td>\n",
       "      <td>NaN</td>\n",
       "      <td>NaN</td>\n",
       "      <td>NaN</td>\n",
       "      <td>NaN</td>\n",
       "      <td>NaN</td>\n",
       "    </tr>\n",
       "    <tr>\n",
       "      <th>4</th>\n",
       "      <td>Andorra</td>\n",
       "      <td>AND</td>\n",
       "      <td>Children (0-14) living with HIV</td>\n",
       "      <td>SH.HIV.0014</td>\n",
       "      <td>NaN</td>\n",
       "      <td>NaN</td>\n",
       "      <td>NaN</td>\n",
       "      <td>NaN</td>\n",
       "      <td>NaN</td>\n",
       "      <td>NaN</td>\n",
       "      <td>...</td>\n",
       "      <td>NaN</td>\n",
       "      <td>NaN</td>\n",
       "      <td>NaN</td>\n",
       "      <td>NaN</td>\n",
       "      <td>NaN</td>\n",
       "      <td>NaN</td>\n",
       "      <td>NaN</td>\n",
       "      <td>NaN</td>\n",
       "      <td>NaN</td>\n",
       "      <td>NaN</td>\n",
       "    </tr>\n",
       "  </tbody>\n",
       "</table>\n",
       "<p>5 rows × 32 columns</p>\n",
       "</div>"
      ],
      "text/plain": [
       "  Country Name Country Code                   Indicator Name Indicator Code  \\\n",
       "0        Aruba          ABW  Children (0-14) living with HIV    SH.HIV.0014   \n",
       "1  Afghanistan          AFG  Children (0-14) living with HIV    SH.HIV.0014   \n",
       "2       Angola          AGO  Children (0-14) living with HIV    SH.HIV.0014   \n",
       "3      Albania          ALB  Children (0-14) living with HIV    SH.HIV.0014   \n",
       "4      Andorra          AND  Children (0-14) living with HIV    SH.HIV.0014   \n",
       "\n",
       "    1990   1991    1992    1993    1994    1995   ...        2008     2009  \\\n",
       "0    NaN    NaN     NaN     NaN     NaN     NaN   ...         NaN      NaN   \n",
       "1    NaN    NaN     NaN     NaN     NaN     NaN   ...         NaN      NaN   \n",
       "2  620.0  820.0  1100.0  1400.0  1800.0  2200.0   ...     16000.0  17000.0   \n",
       "3    NaN    NaN     NaN     NaN     NaN     NaN   ...         NaN      NaN   \n",
       "4    NaN    NaN     NaN     NaN     NaN     NaN   ...         NaN      NaN   \n",
       "\n",
       "      2010     2011     2012     2013     2014     2015     2016     2017  \n",
       "0      NaN      NaN      NaN      NaN      NaN      NaN      NaN      NaN  \n",
       "1      NaN      NaN      NaN      NaN      NaN      NaN      NaN      NaN  \n",
       "2  19000.0  20000.0  22000.0  23000.0  24000.0  25000.0  26000.0  27000.0  \n",
       "3      NaN      NaN      NaN      NaN      NaN      NaN      NaN      NaN  \n",
       "4      NaN      NaN      NaN      NaN      NaN      NaN      NaN      NaN  \n",
       "\n",
       "[5 rows x 32 columns]"
      ]
     },
     "execution_count": 19,
     "metadata": {},
     "output_type": "execute_result"
    }
   ],
   "source": [
    "data.head()"
   ]
  },
  {
   "cell_type": "code",
   "execution_count": 32,
   "metadata": {},
   "outputs": [
    {
     "data": {
      "text/plain": [
       "pandas.core.indexes.range.RangeIndex"
      ]
     },
     "execution_count": 32,
     "metadata": {},
     "output_type": "execute_result"
    }
   ],
   "source": [
    "type(data.index)"
   ]
  },
  {
   "cell_type": "code",
   "execution_count": 33,
   "metadata": {},
   "outputs": [],
   "source": [
    "data.set_index('Country Name',inplace = True)"
   ]
  },
  {
   "cell_type": "code",
   "execution_count": 34,
   "metadata": {},
   "outputs": [
    {
     "data": {
      "text/plain": [
       "Country Code                                  JPN\n",
       "Indicator Name    Children (0-14) living with HIV\n",
       "Indicator Code                        SH.HIV.0014\n",
       "1990                                          NaN\n",
       "1991                                          NaN\n",
       "1992                                          NaN\n",
       "1993                                          NaN\n",
       "1994                                          NaN\n",
       "1995                                          NaN\n",
       "1996                                          NaN\n",
       "1997                                          NaN\n",
       "1998                                          NaN\n",
       "1999                                          NaN\n",
       "2000                                          NaN\n",
       "2001                                          NaN\n",
       "2002                                          NaN\n",
       "2003                                          NaN\n",
       "2004                                          NaN\n",
       "2005                                          NaN\n",
       "2006                                          NaN\n",
       "2007                                          NaN\n",
       "2008                                          NaN\n",
       "2009                                          NaN\n",
       "2010                                          NaN\n",
       "2011                                          NaN\n",
       "2012                                          NaN\n",
       "2013                                          NaN\n",
       "2014                                          NaN\n",
       "2015                                          NaN\n",
       "2016                                          NaN\n",
       "2017                                          NaN\n",
       "Name: Japan, dtype: object"
      ]
     },
     "execution_count": 34,
     "metadata": {},
     "output_type": "execute_result"
    }
   ],
   "source": [
    "data.loc['Japan',:]"
   ]
  },
  {
   "cell_type": "code",
   "execution_count": 35,
   "metadata": {},
   "outputs": [
    {
     "data": {
      "text/plain": [
       "Index(['Aruba', 'Afghanistan', 'Angola', 'Albania', 'Andorra', 'Arab World',\n",
       "       'United Arab Emirates', 'Argentina', 'Armenia', 'American Samoa',\n",
       "       ...\n",
       "       'Virgin Islands (U.S.)', 'Vietnam', 'Vanuatu', 'World', 'Samoa',\n",
       "       'Kosovo', 'Yemen, Rep.', 'South Africa', 'Zambia', 'Zimbabwe'],\n",
       "      dtype='object', name='Country Name', length=264)"
      ]
     },
     "execution_count": 35,
     "metadata": {},
     "output_type": "execute_result"
    }
   ],
   "source": [
    "data.index"
   ]
  },
  {
   "cell_type": "code",
   "execution_count": 40,
   "metadata": {},
   "outputs": [],
   "source": [
    "empty_index = []\n",
    "for index in data.index:\n",
    "    if(data.loc[index,:].count() < 10):\n",
    "        empty_index.append(index)"
   ]
  },
  {
   "cell_type": "code",
   "execution_count": 42,
   "metadata": {},
   "outputs": [
    {
     "data": {
      "text/plain": [
       "(264, 31)"
      ]
     },
     "execution_count": 42,
     "metadata": {},
     "output_type": "execute_result"
    }
   ],
   "source": [
    "data.shape"
   ]
  },
  {
   "cell_type": "code",
   "execution_count": 43,
   "metadata": {},
   "outputs": [],
   "source": [
    "data.drop(empty_index,axis = 0,inplace = True)"
   ]
  },
  {
   "cell_type": "code",
   "execution_count": 44,
   "metadata": {},
   "outputs": [
    {
     "data": {
      "text/plain": [
       "(95, 31)"
      ]
     },
     "execution_count": 44,
     "metadata": {},
     "output_type": "execute_result"
    }
   ],
   "source": [
    "data.shape"
   ]
  },
  {
   "cell_type": "code",
   "execution_count": 46,
   "metadata": {},
   "outputs": [
    {
     "data": {
      "text/html": [
       "<div>\n",
       "<style>\n",
       "    .dataframe thead tr:only-child th {\n",
       "        text-align: right;\n",
       "    }\n",
       "\n",
       "    .dataframe thead th {\n",
       "        text-align: left;\n",
       "    }\n",
       "\n",
       "    .dataframe tbody tr th {\n",
       "        vertical-align: top;\n",
       "    }\n",
       "</style>\n",
       "<table border=\"1\" class=\"dataframe\">\n",
       "  <thead>\n",
       "    <tr style=\"text-align: right;\">\n",
       "      <th></th>\n",
       "      <th>Country Code</th>\n",
       "      <th>Indicator Name</th>\n",
       "      <th>Indicator Code</th>\n",
       "      <th>1990</th>\n",
       "      <th>1991</th>\n",
       "      <th>1992</th>\n",
       "      <th>1993</th>\n",
       "      <th>1994</th>\n",
       "      <th>1995</th>\n",
       "      <th>1996</th>\n",
       "      <th>...</th>\n",
       "      <th>2008</th>\n",
       "      <th>2009</th>\n",
       "      <th>2010</th>\n",
       "      <th>2011</th>\n",
       "      <th>2012</th>\n",
       "      <th>2013</th>\n",
       "      <th>2014</th>\n",
       "      <th>2015</th>\n",
       "      <th>2016</th>\n",
       "      <th>2017</th>\n",
       "    </tr>\n",
       "    <tr>\n",
       "      <th>Country Name</th>\n",
       "      <th></th>\n",
       "      <th></th>\n",
       "      <th></th>\n",
       "      <th></th>\n",
       "      <th></th>\n",
       "      <th></th>\n",
       "      <th></th>\n",
       "      <th></th>\n",
       "      <th></th>\n",
       "      <th></th>\n",
       "      <th></th>\n",
       "      <th></th>\n",
       "      <th></th>\n",
       "      <th></th>\n",
       "      <th></th>\n",
       "      <th></th>\n",
       "      <th></th>\n",
       "      <th></th>\n",
       "      <th></th>\n",
       "      <th></th>\n",
       "      <th></th>\n",
       "    </tr>\n",
       "  </thead>\n",
       "  <tbody>\n",
       "    <tr>\n",
       "      <th>Angola</th>\n",
       "      <td>AGO</td>\n",
       "      <td>Children (0-14) living with HIV</td>\n",
       "      <td>SH.HIV.0014</td>\n",
       "      <td>620.0</td>\n",
       "      <td>820.0</td>\n",
       "      <td>1100.0</td>\n",
       "      <td>1400.0</td>\n",
       "      <td>1800.0</td>\n",
       "      <td>2200.0</td>\n",
       "      <td>2800.0</td>\n",
       "      <td>...</td>\n",
       "      <td>16000.0</td>\n",
       "      <td>17000.0</td>\n",
       "      <td>19000.0</td>\n",
       "      <td>20000.0</td>\n",
       "      <td>22000.0</td>\n",
       "      <td>23000.0</td>\n",
       "      <td>24000.0</td>\n",
       "      <td>25000.0</td>\n",
       "      <td>26000.0</td>\n",
       "      <td>27000.0</td>\n",
       "    </tr>\n",
       "    <tr>\n",
       "      <th>Argentina</th>\n",
       "      <td>ARG</td>\n",
       "      <td>Children (0-14) living with HIV</td>\n",
       "      <td>SH.HIV.0014</td>\n",
       "      <td>200.0</td>\n",
       "      <td>500.0</td>\n",
       "      <td>500.0</td>\n",
       "      <td>500.0</td>\n",
       "      <td>540.0</td>\n",
       "      <td>600.0</td>\n",
       "      <td>660.0</td>\n",
       "      <td>...</td>\n",
       "      <td>1200.0</td>\n",
       "      <td>1200.0</td>\n",
       "      <td>1100.0</td>\n",
       "      <td>1100.0</td>\n",
       "      <td>1000.0</td>\n",
       "      <td>990.0</td>\n",
       "      <td>950.0</td>\n",
       "      <td>910.0</td>\n",
       "      <td>880.0</td>\n",
       "      <td>850.0</td>\n",
       "    </tr>\n",
       "    <tr>\n",
       "      <th>Azerbaijan</th>\n",
       "      <td>AZE</td>\n",
       "      <td>Children (0-14) living with HIV</td>\n",
       "      <td>SH.HIV.0014</td>\n",
       "      <td>100.0</td>\n",
       "      <td>100.0</td>\n",
       "      <td>100.0</td>\n",
       "      <td>100.0</td>\n",
       "      <td>100.0</td>\n",
       "      <td>100.0</td>\n",
       "      <td>100.0</td>\n",
       "      <td>...</td>\n",
       "      <td>100.0</td>\n",
       "      <td>100.0</td>\n",
       "      <td>100.0</td>\n",
       "      <td>100.0</td>\n",
       "      <td>100.0</td>\n",
       "      <td>100.0</td>\n",
       "      <td>100.0</td>\n",
       "      <td>100.0</td>\n",
       "      <td>100.0</td>\n",
       "      <td>100.0</td>\n",
       "    </tr>\n",
       "    <tr>\n",
       "      <th>Burundi</th>\n",
       "      <td>BDI</td>\n",
       "      <td>Children (0-14) living with HIV</td>\n",
       "      <td>SH.HIV.0014</td>\n",
       "      <td>3100.0</td>\n",
       "      <td>4000.0</td>\n",
       "      <td>5100.0</td>\n",
       "      <td>6300.0</td>\n",
       "      <td>7500.0</td>\n",
       "      <td>8800.0</td>\n",
       "      <td>10000.0</td>\n",
       "      <td>...</td>\n",
       "      <td>14000.0</td>\n",
       "      <td>13000.0</td>\n",
       "      <td>13000.0</td>\n",
       "      <td>12000.0</td>\n",
       "      <td>12000.0</td>\n",
       "      <td>11000.0</td>\n",
       "      <td>11000.0</td>\n",
       "      <td>9900.0</td>\n",
       "      <td>9300.0</td>\n",
       "      <td>8800.0</td>\n",
       "    </tr>\n",
       "    <tr>\n",
       "      <th>Benin</th>\n",
       "      <td>BEN</td>\n",
       "      <td>Children (0-14) living with HIV</td>\n",
       "      <td>SH.HIV.0014</td>\n",
       "      <td>200.0</td>\n",
       "      <td>500.0</td>\n",
       "      <td>510.0</td>\n",
       "      <td>770.0</td>\n",
       "      <td>1100.0</td>\n",
       "      <td>1500.0</td>\n",
       "      <td>2000.0</td>\n",
       "      <td>...</td>\n",
       "      <td>6900.0</td>\n",
       "      <td>7000.0</td>\n",
       "      <td>7200.0</td>\n",
       "      <td>7300.0</td>\n",
       "      <td>7300.0</td>\n",
       "      <td>7400.0</td>\n",
       "      <td>7400.0</td>\n",
       "      <td>7200.0</td>\n",
       "      <td>6900.0</td>\n",
       "      <td>6700.0</td>\n",
       "    </tr>\n",
       "  </tbody>\n",
       "</table>\n",
       "<p>5 rows × 31 columns</p>\n",
       "</div>"
      ],
      "text/plain": [
       "             Country Code                   Indicator Name Indicator Code  \\\n",
       "Country Name                                                                \n",
       "Angola                AGO  Children (0-14) living with HIV    SH.HIV.0014   \n",
       "Argentina             ARG  Children (0-14) living with HIV    SH.HIV.0014   \n",
       "Azerbaijan            AZE  Children (0-14) living with HIV    SH.HIV.0014   \n",
       "Burundi               BDI  Children (0-14) living with HIV    SH.HIV.0014   \n",
       "Benin                 BEN  Children (0-14) living with HIV    SH.HIV.0014   \n",
       "\n",
       "                1990    1991    1992    1993    1994    1995     1996  \\\n",
       "Country Name                                                            \n",
       "Angola         620.0   820.0  1100.0  1400.0  1800.0  2200.0   2800.0   \n",
       "Argentina      200.0   500.0   500.0   500.0   540.0   600.0    660.0   \n",
       "Azerbaijan     100.0   100.0   100.0   100.0   100.0   100.0    100.0   \n",
       "Burundi       3100.0  4000.0  5100.0  6300.0  7500.0  8800.0  10000.0   \n",
       "Benin          200.0   500.0   510.0   770.0  1100.0  1500.0   2000.0   \n",
       "\n",
       "               ...        2008     2009     2010     2011     2012     2013  \\\n",
       "Country Name   ...                                                            \n",
       "Angola         ...     16000.0  17000.0  19000.0  20000.0  22000.0  23000.0   \n",
       "Argentina      ...      1200.0   1200.0   1100.0   1100.0   1000.0    990.0   \n",
       "Azerbaijan     ...       100.0    100.0    100.0    100.0    100.0    100.0   \n",
       "Burundi        ...     14000.0  13000.0  13000.0  12000.0  12000.0  11000.0   \n",
       "Benin          ...      6900.0   7000.0   7200.0   7300.0   7300.0   7400.0   \n",
       "\n",
       "                 2014     2015     2016     2017  \n",
       "Country Name                                      \n",
       "Angola        24000.0  25000.0  26000.0  27000.0  \n",
       "Argentina       950.0    910.0    880.0    850.0  \n",
       "Azerbaijan      100.0    100.0    100.0    100.0  \n",
       "Burundi       11000.0   9900.0   9300.0   8800.0  \n",
       "Benin          7400.0   7200.0   6900.0   6700.0  \n",
       "\n",
       "[5 rows x 31 columns]"
      ]
     },
     "execution_count": 46,
     "metadata": {},
     "output_type": "execute_result"
    }
   ],
   "source": [
    "data.head()"
   ]
  },
  {
   "cell_type": "code",
   "execution_count": 57,
   "metadata": {},
   "outputs": [],
   "source": [
    "data.drop(['Country Code','Indicator Name','Indicator Code'],axis = 1,inplace = True)"
   ]
  },
  {
   "cell_type": "code",
   "execution_count": 47,
   "metadata": {},
   "outputs": [],
   "source": [
    "import matplotlib.pyplot as plt\n",
    "% matplotlib inline"
   ]
  },
  {
   "cell_type": "code",
   "execution_count": 71,
   "metadata": {},
   "outputs": [
    {
     "data": {
      "text/plain": [
       "Text(0.5,1,'Children 0-14')"
      ]
     },
     "execution_count": 71,
     "metadata": {},
     "output_type": "execute_result"
    },
    {
     "data": {
      "image/png": "[encoded data removed]",
      "text/plain": [
       "<matplotlib.figure.Figure at 0x7f8a6590ecc0>"
      ]
     },
     "metadata": {},
     "output_type": "display_data"
    }
   ],
   "source": [
    "plt.figure(figsize = (20,10))\n",
    "plt.scatter(data.columns,data.loc['Egypt, Arab Rep.',:],color = 'blue')\n",
    "plt.scatter(data.columns,data.loc['Pakistan',:],color = 'red')\n",
    "plt.scatter(data.columns,data.loc['Indonesia',:],color = 'green')\n",
    "plt.title('Children 0-14')"
   ]
  },
  {
   "cell_type": "code",
   "execution_count": 66,
   "metadata": {},
   "outputs": [
    {
     "data": {
      "text/plain": [
       "Index(['Angola', 'Argentina', 'Azerbaijan', 'Burundi', 'Benin', 'Burkina Faso',\n",
       "       'Bangladesh', 'Belize', 'Bolivia', 'Brazil', 'Botswana',\n",
       "       'Central African Republic', 'Chile', 'Cote d'Ivoire', 'Cameroon',\n",
       "       'Congo, Dem. Rep.', 'Congo, Rep.', 'Colombia', 'Cabo Verde',\n",
       "       'Costa Rica', 'Cuba', 'Djibouti', 'Dominican Republic', 'Algeria',\n",
       "       'Ecuador', 'Egypt, Arab Rep.', 'Eritrea', 'Ethiopia', 'Gabon',\n",
       "       'Georgia', 'Ghana', 'Guinea', 'Gambia, The', 'Guinea-Bissau',\n",
       "       'Equatorial Guinea', 'Guatemala', 'Guyana', 'Honduras', 'Haiti',\n",
       "       'Indonesia', 'India', 'Iran, Islamic Rep.', 'Jamaica', 'Kazakhstan',\n",
       "       'Kenya', 'Kyrgyz Republic', 'Cambodia', 'Lao PDR', 'Liberia', 'Lesotho',\n",
       "       'Morocco', 'Moldova', 'Madagascar', 'Mexico', 'Mali', 'Myanmar',\n",
       "       'Mozambique', 'Mauritania', 'Malawi', 'Malaysia', 'Namibia', 'Niger',\n",
       "       'Nigeria', 'Nicaragua', 'Nepal', 'Pakistan', 'Panama', 'Peru',\n",
       "       'Philippines', 'Papua New Guinea', 'Paraguay', 'Rwanda', 'Sudan',\n",
       "       'Senegal', 'Sierra Leone', 'El Salvador', 'Somalia', 'South Sudan',\n",
       "       'Suriname', 'Eswatini', 'Chad', 'Togo', 'Thailand', 'Tajikistan',\n",
       "       'Trinidad and Tobago', 'Tunisia', 'Tanzania', 'Uganda', 'Ukraine',\n",
       "       'Uruguay', 'Vietnam', 'World', 'South Africa', 'Zambia', 'Zimbabwe'],\n",
       "      dtype='object', name='Country Name')"
      ]
     },
     "execution_count": 66,
     "metadata": {},
     "output_type": "execute_result"
    }
   ],
   "source": [
    "data.index"
   ]
  },
  {
   "cell_type": "code",
   "execution_count": null,
   "metadata": {},
   "outputs": [],
   "source": []
  }
 ],
 "metadata": {
  "kernelspec": {
   "display_name": "Python 3",
   "language": "python",
   "name": "python3"
  },
  "language_info": {
   "codemirror_mode": {
    "name": "ipython",
    "version": 3
   },
   "file_extension": ".py",
   "mimetype": "text/x-python",
   "name": "python",
   "nbconvert_exporter": "python",
   "pygments_lexer": "ipython3",
   "version": "3.6.6"
  }
 },
 "nbformat": 4,
 "nbformat_minor": 2
}
